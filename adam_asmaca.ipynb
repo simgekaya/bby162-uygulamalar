{
  "nbformat": 4,
  "nbformat_minor": 0,
  "metadata": {
    "colab": {
      "name": "adam_asmaca.ipynb",
      "provenance": [],
      "authorship_tag": "ABX9TyM5Vw5cUnKFxH+qy3TFbHeM",
      "include_colab_link": true
    },
    "kernelspec": {
      "name": "python3",
      "display_name": "Python 3"
    }
  },
  "cells": [
    {
      "cell_type": "markdown",
      "metadata": {
        "id": "view-in-github",
        "colab_type": "text"
      },
      "source": [
        "<a href=\"https://colab.research.google.com/github/simgekaya/bby162-uygulamalar/blob/master/adam_asmaca.ipynb\" target=\"_parent\"><img src=\"https://colab.research.google.com/assets/colab-badge.svg\" alt=\"Open In Colab\"/></a>"
      ]
    },
    {
      "cell_type": "code",
      "metadata": {
        "id": "TSE1JTKb-Qv8",
        "colab_type": "code",
        "outputId": "2059f564-f6c9-4ad2-a9a2-533aab098125",
        "colab": {
          "base_uri": "https://localhost:8080/",
          "height": 163
        }
      },
      "source": [
        "import random\n",
        "\n",
        "kelimeler = [\"menekşe\" , \"yasemin\" , \"zambak\" , \"papatya\" , \"orkide\" ]\n",
        "kelime = random.choice(kelimeler) \n",
        "canSayisi = 3\n",
        "harfler = [] \n",
        "x = len(kelime)\n",
        "z = list('_' * x)\n",
        "print(\"******ADAM ASMACA OYUNUNA HOŞGELDİNİZ!*****\")\n",
        "print(\"Tahmin edeceğiniz kelime bir çiçek çeşitidir.\")\n",
        "print(' '.join(z), end='\\n')\n",
        "while canSayisi > 0:\n",
        "    kullanıcı = input(\"Bir harf tahmin edin : \")\n",
        "    if kullanıcı in harfler:\n",
        "        print(\"Lutfen daha once tahmin ettiginiz harfleri tekrar tahmin etmeyin...\")\n",
        "        continue\n",
        "\n",
        "    elif len(kullanıcı) > 1:\n",
        "        print(\"Lütfen sadece bir harf giriniz.\")\n",
        "        continue\n",
        "\n",
        "    elif kullanıcı not in kelime:   \n",
        "        canSayisi -= 1\n",
        "        print(\"Yanlış tahmin ettiniz!. {} tane tahmin hakkiniz kaldi.\".format(canSayisi))\n",
        "\n",
        "    else:\n",
        "        for i in range(len(kelime)):\n",
        "            if kullanıcı == kelime[i]:\n",
        "                \n",
        "                z[i] = kullanıcı\n",
        "                harfler.append(kullanıcı)\n",
        "        print(' '.join(z), end='\\n')\n",
        "\n",
        "    cevap = input(\"Kelimenin tamamini tahmin etmek istiyor musunuz? ['e' veya 'h'] : \")\n",
        "\n",
        "    if cevap == \"e\":\n",
        "        tahmin = input(\"Kelimenin tamamini tahmin edebilirsiniz : \")\n",
        "        if tahmin == kelime:\n",
        "            print(\"Tebrikler bildiniz...\")\n",
        "            break\n",
        "        else:\n",
        "            canSayisi -= 1\n",
        "            print(\"Yanlis tahmin ettiniz. {} tane tahmin hakkiniz kaldi.\".format(canSayisi))\n",
        "\n",
        "\n",
        "    if canSayisi == 0:\n",
        "        print(\"Tahmin hakkiniz kalmadi. Kaybettiniz!\")\n",
        "        break"
      ],
      "execution_count": 1,
      "outputs": [
        {
          "output_type": "stream",
          "text": [
            "******ADAM ASMACA OYUNUNA HOŞGELDİNİZ!*****\n",
            "Tahmin edeceğiniz kelime bir çiçek çeşitidir.\n",
            "_ _ _ _ _ _\n",
            "Bir harf tahmin edin : a\n",
            "_ a _ _ a _\n",
            "Kelimenin tamamini tahmin etmek istiyor musunuz? ['e' veya 'h'] : e\n",
            "Kelimenin tamamini tahmin edebilirsiniz : zambak\n",
            "Tebrikler bildiniz...\n"
          ],
          "name": "stdout"
        }
      ]
    }
  ]
}
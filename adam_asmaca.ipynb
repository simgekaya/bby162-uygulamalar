{
  "nbformat": 4,
  "nbformat_minor": 0,
  "metadata": {
    "colab": {
      "name": "adam_asmaca.ipynb",
      "provenance": [],
      "authorship_tag": "ABX9TyP5msDUrmTKuDQrIg9Y+y7Z",
      "include_colab_link": true
    },
    "kernelspec": {
      "name": "python3",
      "display_name": "Python 3"
    }
  },
  "cells": [
    {
      "cell_type": "markdown",
      "metadata": {
        "id": "view-in-github",
        "colab_type": "text"
      },
      "source": [
        "<a href=\"https://colab.research.google.com/github/simgekaya/bby162-uygulamalar/blob/master/adam_asmaca.ipynb\" target=\"_parent\"><img src=\"https://colab.research.google.com/assets/colab-badge.svg\" alt=\"Open In Colab\"/></a>"
      ]
    },
    {
      "cell_type": "code",
      "metadata": {
        "id": "82TS3PmSGBoN",
        "colab_type": "code",
        "outputId": "0be9651c-97d1-4774-f600-6e231a8409b2",
        "colab": {
          "base_uri": "https://localhost:8080/",
          "height": 217
        }
      },
      "source": [
        "from random import randint\n",
        "kelimeListesi = [\"nazlı\", \"simay\", \"beyza\", \"cansu\",\"pelin\"]\n",
        "secilen = randint(0,4)\n",
        "tahmin = \" \"\n",
        "canSayisi = 3\n",
        "a = \"-\"\n",
        "b = len(kelimeListesi)* a\n",
        "print(\"***ADAM ASMACA***\")\n",
        "print(\" \".join(b), end= \"\\n\")\n",
        "\n",
        "while canSayisi >0 :\n",
        "      kullanıcı = input(\"Bir harf tahmmini yapınız: \")\n",
        "      if len(kullanıcı) >1:\n",
        "          print(\"Lütfen tek harf giriniz!\")\n",
        "      elif kullanıcı not in kelimeListesi[secilen] :\n",
        "          canSayisi -=1\n",
        "          print(\"Yanlış tahmin, {} tane hakkınız kaldı\".format(canSayisi))\n",
        "      else :\n",
        "       if kullanıcı in kelimeListesi[secilen]:\n",
        "        for i in range(len(kelimeListesi)):\n",
        "          if kullanıcı == kelimeListesi[i] :\n",
        "           print(\"Doğru tahmin\")\n",
        "           b[i] = kullanıcı\n",
        "           \n",
        "        print(\" \".join(b), end=\"\\n\")\n",
        "        print(\" \".join(kullanıcı), end= \"\\n\")\n",
        "   \n",
        "        if canSayisi == 0 :\n",
        "          print(\"Can sayınız tükenmiştir, KAYBETTİNİZ!\")\n",
        "          break\n"
      ],
      "execution_count": 0,
      "outputs": [
        {
          "output_type": "stream",
          "text": [
            "***ADAM ASMACA***\n",
            "- - - - -\n",
            "Bir harf tahmmini yapınız: a\n",
            "- - - - -\n",
            "a\n",
            "Bir harf tahmmini yapınız: b\n",
            "Yanlış tahmin, 2 tane hakkınız kaldı\n",
            "Bir harf tahmmini yapınız: ı\n",
            "Yanlış tahmin, 1 tane hakkınız kaldı\n",
            "Bir harf tahmmini yapınız: e\n",
            "Yanlış tahmin, 0 tane hakkınız kaldı\n"
          ],
          "name": "stdout"
        }
      ]
    }
  ]
}